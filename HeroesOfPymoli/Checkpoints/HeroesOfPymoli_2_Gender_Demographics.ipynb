{
 "cells": [
  {
   "cell_type": "markdown",
   "metadata": {},
   "source": [
    "### Heroes Of Pymoli Data Analysis\n",
    "* Of the 1163 active players, the vast majority are male (84%). There also exists, a smaller, but notable proportion of female players (14%).\n",
    "\n",
    "* Our peak age demographic falls between 20-24 (44.8%) with secondary groups falling between 15-19 (18.60%) and 25-29 (13.4%).  \n",
    "-----"
   ]
  },
  {
   "cell_type": "markdown",
   "metadata": {},
   "source": [
    "### Note\n",
    "* Instructions have been included for each segment. You do not have to follow them exactly, but they are included to help you think through the steps."
   ]
  },
  {
   "cell_type": "markdown",
   "metadata": {},
   "source": [
    "## Gender Demographics"
   ]
  },
  {
   "cell_type": "markdown",
   "metadata": {},
   "source": [
    "* Percentage and Count of Male Players\n",
    "\n",
    "\n",
    "* Percentage and Count of Female Players\n",
    "\n",
    "\n",
    "* Percentage and Count of Other / Non-Disclosed\n",
    "\n",
    "\n"
   ]
  },
  {
   "cell_type": "code",
   "execution_count": 3,
   "metadata": {},
   "outputs": [],
   "source": [
    "# Import modules:\n",
    "import pandas as pd\n",
    "import csv\n",
    "import os\n",
    "import openpyxl\n",
    "\n",
    "# Set parameters for input and output files:\n",
    "path = os.path.join(\"Resources\", \"purchase_data.csv\")\n",
    "purchase_df = pd.read_csv(path)\n"
   ]
  },
  {
   "cell_type": "code",
   "execution_count": 4,
   "metadata": {},
   "outputs": [
    {
     "data": {
      "text/plain": [
       "<pandas.core.groupby.generic.DataFrameGroupBy object at 0x10e936280>"
      ]
     },
     "execution_count": 4,
     "metadata": {},
     "output_type": "execute_result"
    }
   ],
   "source": [
    "# User value_count() method on purchase df to check how many players per gender:\n",
    "players_by_gender = purchase_df[\"Gender\"].value_counts()\n",
    "players_groupby_gender_df = purchase_df.groupby(\"Gender\", as_index=False)\n",
    "players_groupby_gender_df"
   ]
  },
  {
   "cell_type": "code",
   "execution_count": 6,
   "metadata": {},
   "outputs": [],
   "source": [
    "table_gender = pd.DataFrame({'Percentage of Players': players_perc})"
   ]
  },
  {
   "cell_type": "code",
   "execution_count": 7,
   "metadata": {},
   "outputs": [
    {
     "data": {
      "text/html": [
       "<div>\n",
       "<style scoped>\n",
       "    .dataframe tbody tr th:only-of-type {\n",
       "        vertical-align: middle;\n",
       "    }\n",
       "\n",
       "    .dataframe tbody tr th {\n",
       "        vertical-align: top;\n",
       "    }\n",
       "\n",
       "    .dataframe thead th {\n",
       "        text-align: right;\n",
       "    }\n",
       "</style>\n",
       "<table border=\"1\" class=\"dataframe\">\n",
       "  <thead>\n",
       "    <tr style=\"text-align: right;\">\n",
       "      <th></th>\n",
       "      <th>Percentage of Players</th>\n",
       "    </tr>\n",
       "  </thead>\n",
       "  <tbody>\n",
       "    <tr>\n",
       "      <th>Male</th>\n",
       "      <td>83.59%</td>\n",
       "    </tr>\n",
       "    <tr>\n",
       "      <th>Female</th>\n",
       "      <td>14.49%</td>\n",
       "    </tr>\n",
       "    <tr>\n",
       "      <th>Other / Non-Disclosed</th>\n",
       "      <td>1.92%</td>\n",
       "    </tr>\n",
       "  </tbody>\n",
       "</table>\n",
       "</div>"
      ],
      "text/plain": [
       "                      Percentage of Players\n",
       "Male                                 83.59%\n",
       "Female                               14.49%\n",
       "Other / Non-Disclosed                 1.92%"
      ]
     },
     "execution_count": 7,
     "metadata": {},
     "output_type": "execute_result"
    }
   ],
   "source": [
    "# Use value_counts() method to display the player count by gender and calculate the percentage per gender:\n",
    "players_perc = (purchase_df[\"Gender\"].value_counts()/purchase_df[\"Gender\"].count())\n",
    "table_gender[\"Percentage of Players\"] = players_perc\n",
    "\n",
    "# Format the values:\n",
    "table_gender[\"Percentage of Players\"] = pd.Series([\"{0:.2f}%\".format(val * 100) for val in table_gender['Percentage of Players']], index = table_gender.index)\n",
    "table_gender"
   ]
  },
  {
   "cell_type": "code",
   "execution_count": 8,
   "metadata": {},
   "outputs": [],
   "source": [
    "# # Save to excel file:\n",
    "# output_file = table_gender.to_excel(\"2_Gender_Demographics.xlsx\")\n",
    "# pd.ExcelWriter\n",
    "# writer = pd.ExcelWriter(\"2_Gender_Demographics.xlsx\")\n",
    "# # Write purchase summary to the same excel file in a new sheet:\n",
    "# table_gender.to_excel(writer, sheet_name = 'Gender Demographics')\n",
    "# writer.save()"
   ]
  },
  {
   "cell_type": "code",
   "execution_count": null,
   "metadata": {},
   "outputs": [],
   "source": []
  },
  {
   "cell_type": "code",
   "execution_count": null,
   "metadata": {},
   "outputs": [],
   "source": []
  },
  {
   "cell_type": "code",
   "execution_count": null,
   "metadata": {},
   "outputs": [],
   "source": []
  },
  {
   "cell_type": "code",
   "execution_count": null,
   "metadata": {},
   "outputs": [],
   "source": []
  },
  {
   "cell_type": "code",
   "execution_count": null,
   "metadata": {},
   "outputs": [],
   "source": []
  },
  {
   "cell_type": "markdown",
   "metadata": {},
   "source": [
    "\n",
    "## Purchasing Analysis (Gender)"
   ]
  },
  {
   "cell_type": "markdown",
   "metadata": {},
   "source": [
    "* Run basic calculations to obtain purchase count, avg. purchase price, avg. purchase total per person etc. by gender\n",
    "\n",
    "\n",
    "\n",
    "\n",
    "* Create a summary data frame to hold the results\n",
    "\n",
    "\n",
    "* Optional: give the displayed data cleaner formatting\n",
    "\n",
    "\n",
    "* Display the summary data frame"
   ]
  },
  {
   "cell_type": "code",
   "execution_count": null,
   "metadata": {},
   "outputs": [],
   "source": [
    "purchase_data_grouped_by_gender = purchase_data.groupby(\"Gender\").count()\n",
    "purchase_data_grouped_by_gender"
   ]
  },
  {
   "cell_type": "code",
   "execution_count": null,
   "metadata": {},
   "outputs": [],
   "source": [
    "# Redefine total players count again here:\n",
    "players_total = purchase_data[\"SN\"].count()\n",
    "players_total"
   ]
  },
  {
   "cell_type": "code",
   "execution_count": null,
   "metadata": {},
   "outputs": [],
   "source": [
    "grouped_price_mean = purchase_data.groupby(\"Gender\")[\"Price\"].mean()\n",
    "grouped_price_mean"
   ]
  },
  {
   "cell_type": "code",
   "execution_count": null,
   "metadata": {},
   "outputs": [],
   "source": [
    "test1_df = pd.DataFrame({\"Average Purchase Price\": grouped_price_mean})\n",
    "test1_df"
   ]
  },
  {
   "cell_type": "code",
   "execution_count": null,
   "metadata": {},
   "outputs": [],
   "source": [
    "grouped_purchase_count = purchase_data.groupby(\"Gender\")[\"Purchase ID\"].count()\n",
    "grouped_purchase_count"
   ]
  },
  {
   "cell_type": "code",
   "execution_count": null,
   "metadata": {},
   "outputs": [],
   "source": [
    "test1_df = pd.DataFrame({\"Purchase Count\": grouped_purchase_count,\n",
    "                         \"Average Purchase Price\": grouped_price_mean,\n",
    "                         })\n",
    "test1_df"
   ]
  },
  {
   "cell_type": "code",
   "execution_count": null,
   "metadata": {},
   "outputs": [],
   "source": [
    "grouped_purchase_value_total = purchase_data.groupby(\"Gender\")[\"Price\"].sum()\n",
    "grouped_purchase_value_total"
   ]
  },
  {
   "cell_type": "code",
   "execution_count": null,
   "metadata": {},
   "outputs": [],
   "source": [
    "test1_df = pd.DataFrame({\"Purchase Count\": grouped_purchase_count,\n",
    "                         \"Average Purchase Price\": grouped_price_mean,\n",
    "                         \"Total Purchase Value\": grouped_purchase_value_total\n",
    "                         })\n",
    "test1_df"
   ]
  },
  {
   "cell_type": "code",
   "execution_count": null,
   "metadata": {},
   "outputs": [],
   "source": [
    "grouped_purchase_average_per_person = grouped_purchase_value_total / grouped_purchase_count\n",
    "grouped_purchase_average_per_person"
   ]
  },
  {
   "cell_type": "code",
   "execution_count": null,
   "metadata": {},
   "outputs": [],
   "source": [
    "test1_df = pd.DataFrame({\"Purchase Count\": grouped_purchase_count,\n",
    "                         \"Average Purchase Price\": grouped_price_mean,\n",
    "                         \"Total Purchase Value\": grouped_purchase_value_total,\n",
    "                         \"Avg Total Purchase per Person\": grouped_purchase_average_per_person\n",
    "                         })\n",
    "test1_df"
   ]
  },
  {
   "cell_type": "code",
   "execution_count": null,
   "metadata": {},
   "outputs": [],
   "source": [
    "test1_df[\"Average Purchase Price\"] = test1_df[\"Average Purchase Price\"].map(\"${:,.2f}\".format)\n",
    "test1_df[\"Total Purchase Value\"] = test1_df[\"Total Purchase Value\"].map(\"${:,.2f}\".format)\n",
    "test1_df[\"Avg Total Purchase per Person\"] = test1_df[\"Avg Total Purchase per Person\"].map(\"${:,.2f}\".format)\n",
    "\n",
    "#test1_df['Total Purchase Value'] = test1_df[\"Total Purchase Value\"].map(\"${:,.2f}\".format)\n",
    "#test1_df['Avg Total Purchase per Person'] = test1_df[\"Avg Total Purchase per Person\"].map(\"${:,.2f}\".format)\n",
    "#Purch_Anal_Gen[\"Total Purchase Value\"] = Purch_Anal_Gen[\"Total Purchase Value\"].map(\"${:.2f}\".format)\n",
    "#test1_df['Total Purchase Value'] = pd.Series([\"${:,.2f}\".format(grouped_purchase_value_total)])\n",
    "#test1_df['Avg Total Purchase per Person'] = pd.Series([\"${:,.2f}\".format(grouped_purchase_average_per_person)])\n",
    "test1_df"
   ]
  },
  {
   "cell_type": "code",
   "execution_count": null,
   "metadata": {},
   "outputs": [],
   "source": []
  },
  {
   "cell_type": "code",
   "execution_count": null,
   "metadata": {},
   "outputs": [],
   "source": []
  },
  {
   "cell_type": "code",
   "execution_count": null,
   "metadata": {},
   "outputs": [],
   "source": [
    "# Example of the table below"
   ]
  },
  {
   "cell_type": "markdown",
   "metadata": {},
   "source": [
    "## Age Demographics"
   ]
  },
  {
   "cell_type": "markdown",
   "metadata": {},
   "source": [
    "* Establish bins for ages\n",
    "\n",
    "\n",
    "* Categorize the existing players using the age bins. Hint: use pd.cut()\n",
    "\n",
    "\n",
    "* Calculate the numbers and percentages by age group\n",
    "\n",
    "\n",
    "* Create a summary data frame to hold the results\n",
    "\n",
    "\n",
    "* Optional: round the percentage column to two decimal points\n",
    "\n",
    "\n",
    "* Display Age Demographics Table\n"
   ]
  },
  {
   "cell_type": "code",
   "execution_count": null,
   "metadata": {},
   "outputs": [],
   "source": [
    "# Create a new dataframe object with only Age and SN columns...\n",
    "demographics_df = purchase_data[[\"Age\", \"SN\", \"Price\"]]\n",
    "demographics_df"
   ]
  },
  {
   "cell_type": "code",
   "execution_count": null,
   "metadata": {},
   "outputs": [],
   "source": [
    "# Might need to use .loc method to slice the columns, as later issues reported when trying to create df with bins.\n",
    "demographics_df = purchase_data.loc[:, [\"Age\", \"SN\", \"Price\"]]\n",
    "demographics_df = demographics_df.drop_duplicates()\n",
    "demographics_df"
   ]
  },
  {
   "cell_type": "code",
   "execution_count": null,
   "metadata": {},
   "outputs": [],
   "source": [
    "# Check the counts in each of the columns to see if they are the same:\n",
    "demos_count = demographics_df.count()\n",
    "demos_count"
   ]
  },
  {
   "cell_type": "code",
   "execution_count": null,
   "metadata": {},
   "outputs": [],
   "source": [
    "# "
   ]
  },
  {
   "cell_type": "code",
   "execution_count": null,
   "metadata": {},
   "outputs": [],
   "source": [
    "# Note: the two columns are aligned (above, both counts 780)."
   ]
  },
  {
   "cell_type": "code",
   "execution_count": null,
   "metadata": {},
   "outputs": [],
   "source": [
    "# Use pd.cut() method to split age data into bins:\n",
    "bins_age = [0, 9, 14, 19, 24, 29, 34, 39, 100]\n",
    "bins_age_labels = ['<10', '10-14', '15-19', '20-24', '25-29', '30-34', '35-39', '40+']\n",
    "pd.cut(demographics_df['Age'], bins=bins_age, labels=bins_age_labels).head()"
   ]
  },
  {
   "cell_type": "code",
   "execution_count": null,
   "metadata": {},
   "outputs": [],
   "source": [
    "# Create a dataframe based on the cut demographics:\n",
    "demographics_df['Age Category'] = pd.cut(demographics_df[\"Age\"], bins=bins_age, labels=bins_age_labels)\n",
    "demographics_df.head()"
   ]
  },
  {
   "cell_type": "code",
   "execution_count": null,
   "metadata": {},
   "outputs": [],
   "source": [
    "# Create a sorted df based on the demographics by age bins df\n",
    "\n",
    "# indexed_age_df = pd.DataFrame(purchase_data\n",
    "# grouped_age_bins = demographics_df.groupby('Age')\n",
    "# grouped_age_bins.head(50)\n",
    "                              \n",
    "# total_players = len(purchase_data['SN'].value_counts())\n",
    "# table_players_total = pd.DataFrame({\"Total Players\": [total_players] })\n",
    "# table_players_total\n",
    "                              \n",
    "                              \n",
    "# purchase_data.groupby('Gender')['Price'].sum()\n",
    "\n",
    "test2_df = pd.DataFrame({'Age': demographics_df['Age'],\n",
    "                           'Name': demographics_df['SN'],\n",
    "                           'Age Category': demographics_df['Age Category'],\n",
    "                           'Price': demographics_df['Price']})\n",
    "test2_df_indexed = test2_df.set_index('Age Category')\n",
    "test2_df_indexed"
   ]
  },
  {
   "cell_type": "code",
   "execution_count": null,
   "metadata": {},
   "outputs": [],
   "source": [
    "test2_df = pd.DataFrame({'Age': demographics_df['Age'],\n",
    "                         'Name': demographics_df['SN'],\n",
    "                         'Age Category': demographics_df['Age Category'],\n",
    "                         'Price': demographics_df['Price']})\n",
    "test2_df_indexed = test2_df.set_index('Age Category')\n",
    "test2_df_indexed"
   ]
  },
  {
   "cell_type": "code",
   "execution_count": null,
   "metadata": {},
   "outputs": [],
   "source": [
    "# Group data frame by 'Age Category'\n",
    "age_bins_count_df = demographics_df.groupby(\"Age Category\")\n",
    "age_bins_count_df.head()"
   ]
  },
  {
   "cell_type": "code",
   "execution_count": null,
   "metadata": {},
   "outputs": [],
   "source": [
    "# Looks like need to group first to create iterable object:\n"
   ]
  },
  {
   "cell_type": "code",
   "execution_count": null,
   "metadata": {},
   "outputs": [],
   "source": [
    "# Check how many players in each category, using count() function:\n",
    "bin_counts = age_bins_count_df['Age'].unique()\n",
    "bin_counts"
   ]
  },
  {
   "cell_type": "code",
   "execution_count": null,
   "metadata": {},
   "outputs": [],
   "source": [
    "# Remember total players\n",
    "players_bin_percentage = []\n",
    "\n",
    "players_unique = purchase_data[\"SN\"].unique()\n",
    "players_unique\n",
    "##players_unique = len(purchase_data[\"SN\"].unique())\n",
    "#players_unique"
   ]
  },
  {
   "cell_type": "code",
   "execution_count": null,
   "metadata": {},
   "outputs": [],
   "source": [
    "# Create a loop to calculate percentage per every age group/bin\n",
    "# and put the new array of percentage for each group in the list\n",
    "players_total = len(purchase_data['SN'].count())\n",
    "print(players_total)\n",
    "players_bin_percentage = []\n",
    "for i in range (len(bin_counts)):\n",
    "    players_bin_percentage.append(bin_counts[i]*100/players_total)\n",
    "players_bin_percentage"
   ]
  },
  {
   "cell_type": "code",
   "execution_count": null,
   "metadata": {},
   "outputs": [],
   "source": [
    "# Create new summary table to display the Age Demographics:\n",
    "test3_df = pd.DataFrame({'Total players': bin_counts,\n",
    "                         'Percentage of Players': players_bin_percentage\n",
    "                        })\n",
    "test3_df\n",
    "\n",
    "\n",
    "#pd.DataFrame({'Age': demographics_df['Age'],\n",
    "#                         'Name': demographics_df['SN'],\n",
    "#                         'Age Category': demographics_df['Age Category'],\n",
    "#                         'Average Price': players_bin_percentage})\n",
    "#test3_df_indexed = test3_df.set_index('Age Category')\n",
    "#test3_df_indexed"
   ]
  },
  {
   "cell_type": "code",
   "execution_count": null,
   "metadata": {},
   "outputs": [],
   "source": []
  },
  {
   "cell_type": "code",
   "execution_count": null,
   "metadata": {},
   "outputs": [],
   "source": []
  },
  {
   "cell_type": "code",
   "execution_count": null,
   "metadata": {},
   "outputs": [],
   "source": []
  },
  {
   "cell_type": "code",
   "execution_count": null,
   "metadata": {},
   "outputs": [],
   "source": []
  },
  {
   "cell_type": "markdown",
   "metadata": {},
   "source": [
    "## Purchasing Analysis (Age)"
   ]
  },
  {
   "cell_type": "markdown",
   "metadata": {},
   "source": [
    "* Bin the purchase_data data frame by age\n",
    "\n",
    "\n",
    "* Run basic calculations to obtain purchase count, avg. purchase price, avg. purchase total per person etc. in the table below\n",
    "\n",
    "\n",
    "* Create a summary data frame to hold the results\n",
    "\n",
    "\n",
    "* Optional: give the displayed data cleaner formatting\n",
    "\n",
    "\n",
    "* Display the summary data frame"
   ]
  },
  {
   "cell_type": "code",
   "execution_count": null,
   "metadata": {},
   "outputs": [],
   "source": []
  },
  {
   "cell_type": "markdown",
   "metadata": {},
   "source": [
    "## Top Spenders"
   ]
  },
  {
   "cell_type": "markdown",
   "metadata": {},
   "source": [
    "* Run basic calculations to obtain the results in the table below\n",
    "\n",
    "\n",
    "* Create a summary data frame to hold the results\n",
    "\n",
    "\n",
    "* Sort the total purchase value column in descending order\n",
    "\n",
    "\n",
    "* Optional: give the displayed data cleaner formatting\n",
    "\n",
    "\n",
    "* Display a preview of the summary data frame\n",
    "\n"
   ]
  },
  {
   "cell_type": "code",
   "execution_count": null,
   "metadata": {},
   "outputs": [],
   "source": []
  },
  {
   "cell_type": "markdown",
   "metadata": {},
   "source": [
    "## Most Popular Items"
   ]
  },
  {
   "cell_type": "markdown",
   "metadata": {},
   "source": [
    "* Retrieve the Item ID, Item Name, and Item Price columns\n",
    "\n",
    "\n",
    "* Group by Item ID and Item Name. Perform calculations to obtain purchase count, item price, and total purchase value\n",
    "\n",
    "\n",
    "* Create a summary data frame to hold the results\n",
    "\n",
    "\n",
    "* Sort the purchase count column in descending order\n",
    "\n",
    "\n",
    "* Optional: give the displayed data cleaner formatting\n",
    "\n",
    "\n",
    "* Display a preview of the summary data frame\n",
    "\n"
   ]
  },
  {
   "cell_type": "code",
   "execution_count": null,
   "metadata": {},
   "outputs": [],
   "source": []
  },
  {
   "cell_type": "markdown",
   "metadata": {},
   "source": [
    "## Most Profitable Items"
   ]
  },
  {
   "cell_type": "markdown",
   "metadata": {},
   "source": [
    "* Sort the above table by total purchase value in descending order\n",
    "\n",
    "\n",
    "* Optional: give the displayed data cleaner formatting\n",
    "\n",
    "\n",
    "* Display a preview of the data frame\n",
    "\n"
   ]
  },
  {
   "cell_type": "code",
   "execution_count": null,
   "metadata": {
    "scrolled": true
   },
   "outputs": [],
   "source": []
  },
  {
   "cell_type": "code",
   "execution_count": null,
   "metadata": {},
   "outputs": [],
   "source": []
  },
  {
   "cell_type": "code",
   "execution_count": null,
   "metadata": {},
   "outputs": [],
   "source": []
  },
  {
   "cell_type": "code",
   "execution_count": null,
   "metadata": {},
   "outputs": [],
   "source": []
  },
  {
   "cell_type": "code",
   "execution_count": null,
   "metadata": {},
   "outputs": [],
   "source": [
    "writer.close()"
   ]
  }
 ],
 "metadata": {
  "anaconda-cloud": {},
  "kernel_info": {
   "name": "python3"
  },
  "kernelspec": {
   "display_name": "Python [conda env:PythonData] *",
   "language": "python",
   "name": "conda-env-PythonData-py"
  },
  "language_info": {
   "codemirror_mode": {
    "name": "ipython",
    "version": 3
   },
   "file_extension": ".py",
   "mimetype": "text/x-python",
   "name": "python",
   "nbconvert_exporter": "python",
   "pygments_lexer": "ipython3",
   "version": "3.8.2"
  },
  "latex_envs": {
   "LaTeX_envs_menu_present": true,
   "autoclose": false,
   "autocomplete": true,
   "bibliofile": "biblio.bib",
   "cite_by": "apalike",
   "current_citInitial": 1,
   "eqLabelWithNumbers": true,
   "eqNumInitial": 1,
   "hotkeys": {
    "equation": "Ctrl-E",
    "itemize": "Ctrl-I"
   },
   "labels_anchors": false,
   "latex_user_defs": false,
   "report_style_numbering": false,
   "user_envs_cfg": false
  },
  "nteract": {
   "version": "0.2.0"
  }
 },
 "nbformat": 4,
 "nbformat_minor": 2
}
